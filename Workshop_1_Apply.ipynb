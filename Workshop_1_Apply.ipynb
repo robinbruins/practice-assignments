{
 "cells": [
  {
   "cell_type": "markdown",
   "id": "9ca780e6-4777-4af4-a3f3-e1444e016768",
   "metadata": {},
   "source": [
    "# Workshop 1 - Apply\n",
    "    \n",
    "In this notebook you will work on a homework assignment involving a Vierendeel frame."
   ]
  },
  {
   "cell_type": "markdown",
   "id": "568856ef",
   "metadata": {},
   "source": [
    "Our matrix method implementation is now completely stored in a local package, consisting of three classes."
   ]
  },
  {
   "cell_type": "markdown",
   "id": "aa647b73-f511-4581-a3c4-15f7a8228267",
   "metadata": {},
   "source": [
    "## Vierendeel frame"
   ]
  },
  {
   "cell_type": "markdown",
   "id": "09883360-5e5b-4a00-bb00-bd7431fa0bb2",
   "metadata": {},
   "source": [
    "<center><figure>\n",
    "  <IMG SRC=\"https://raw.githubusercontent.com/ibcmrocha/public/main/vierendeel.png\" WIDTH=400 ALIGN=\"center\">\n",
    "      </figure></center>\n",
    "\n",
    "With:\n",
    "\n",
    "- $h = 1$\n",
    "- $b = 1$\n",
    "- $EI_r = 10000$\n",
    "- $EI_k = 1000$\n",
    "- $EA  = 1\\cdot 10^{10}$\n",
    "- $H = 100$\n"
   ]
  },
  {
   "cell_type": "markdown",
   "id": "8c2a2cb4-69b8-4068-95d7-a716fa34bdc7",
   "metadata": {},
   "source": [
    "In the first half of this course last quarter, you have learned that the deformation of Vierendeel frames (an example of which is shown above) can be obtained in a simplified way by assuming the global deformation can be described by a shear beam with equivalent stiffness given by:\n",
    "\n",
    "$$\n",
    "k = \\frac{24}{h\\left(\\displaystyle\\frac{h}{EI_k}+\\frac{b}{EI_r}\\right)}\n",
    "$$\n",
    "\n",
    "Now that you have the tools to solve the original frame problem using the Matrix Method, your task in this assignment is to investigate the validity of this equivalent shear beam model.\n",
    "\n",
    "Note that the checks only had a single element. For this model you need to obtain $\\mathbf{K}$ and $\\mathbf{f}$ of all elements and add them to the correct locations in the global stiffness matrix and force vector. To do that, make use of the `global_dofs` function of the Element class and the `np.ix_` Numpy utility function. (Tip: refer back to what you did in the `constrain` function).\n",
    "\n",
    "Once you have a solution, use SymPy / Maple / pen and paper to solve a shear beam problem with the equivalent stiffness given above (It is very similar to the simple extension problem above) and compare the horizontal displacement at the point of application of $H$ for the two models.\n",
    "\n",
    "Investigate how the two models compare for different values of $EA$, ranging from very small (*e.g.* $1\\cdot 10^{-5}$) to very large (*e.g.* $1\\cdot10^{10}$). What explains the behavior you observe?"
   ]
  },
  {
   "cell_type": "code",
   "execution_count": 1,
   "id": "d38dc240",
   "metadata": {},
   "outputs": [],
   "source": [
    "import numpy as np\n",
    "import matrixmethod as mm\n",
    "%config InlineBackend.figure_formats = ['svg']"
   ]
  },
  {
   "cell_type": "code",
   "execution_count": 2,
   "id": "e9456735-d5b2-4f9e-b7c5-e8ef69077468",
   "metadata": {},
   "outputs": [],
   "source": [
    "mm.Node.clear()\n",
    "mm.Element.clear()"
   ]
  },
  {
   "cell_type": "code",
   "execution_count": 3,
   "id": "4e69856b",
   "metadata": {},
   "outputs": [
    {
     "name": "stdout",
     "output_type": "stream",
     "text": [
      "Element connecting:\n",
      "node #1:\n",
      " This node has:\n",
      " - x coordinate=0,\n",
      " - z coordinate=0,\n",
      " - degrees of freedom=[0, 1, 2],\n",
      " - load vector=[0. 0. 0.]\n",
      "with node #2:\n",
      " This node has:\n",
      " - x coordinate=1,\n",
      " - z coordinate=0,\n",
      " - degrees of freedom=[3, 4, 5],\n",
      " - load vector=[0. 0. 0.]\n",
      "Element connecting:\n",
      "node #1:\n",
      " This node has:\n",
      " - x coordinate=1,\n",
      " - z coordinate=0,\n",
      " - degrees of freedom=[3, 4, 5],\n",
      " - load vector=[0. 0. 0.]\n",
      "with node #2:\n",
      " This node has:\n",
      " - x coordinate=1,\n",
      " - z coordinate=1,\n",
      " - degrees of freedom=[6, 7, 8],\n",
      " - load vector=[0. 0. 0.]\n",
      "Element connecting:\n",
      "node #1:\n",
      " This node has:\n",
      " - x coordinate=1,\n",
      " - z coordinate=1,\n",
      " - degrees of freedom=[6, 7, 8],\n",
      " - load vector=[0. 0. 0.]\n",
      "with node #2:\n",
      " This node has:\n",
      " - x coordinate=0,\n",
      " - z coordinate=1,\n",
      " - degrees of freedom=[9, 10, 11],\n",
      " - load vector=[100.   0.   0.]\n",
      "Element connecting:\n",
      "node #1:\n",
      " This node has:\n",
      " - x coordinate=0,\n",
      " - z coordinate=0,\n",
      " - degrees of freedom=[0, 1, 2],\n",
      " - load vector=[0. 0. 0.]\n",
      "with node #2:\n",
      " This node has:\n",
      " - x coordinate=0,\n",
      " - z coordinate=1,\n",
      " - degrees of freedom=[9, 10, 11],\n",
      " - load vector=[100.   0.   0.]\n"
     ]
    }
   ],
   "source": [
    "h = 1\n",
    "b = 1\n",
    "EI_r = 10000\n",
    "EI_k = 1000\n",
    "EA = 1 * 10**10\n",
    "H = 100\n",
    "\n",
    "node = []\n",
    "node.append(mm.Node(0,0))\n",
    "node.append(mm.Node(b,0))\n",
    "node.append(mm.Node(b,h))\n",
    "node.append(mm.Node(0,h))\n",
    "\n",
    "elements = []\n",
    "elements.append(mm.Element(node[0], node[1]))\n",
    "elements.append(mm.Element(node[1], node[2]))\n",
    "elements.append(mm.Element(node[2], node[3]))\n",
    "elements.append(mm.Element(node[0], node[3]))\n",
    "\n",
    "Horizontal = {}\n",
    "Horizontal['EI'] = EI_r\n",
    "Horizontal['EA'] = EA\n",
    "elements[0].set_section(Horizontal)\n",
    "elements[2].set_section(Horizontal)\n",
    "\n",
    "Vertical = {}\n",
    "Vertical['EI'] = EI_k\n",
    "Vertical['EA'] = EA\n",
    "elements[1].set_section(Vertical)\n",
    "elements[3].set_section(Vertical)\n",
    "\n",
    "constraints = mm.Constrainer()\n",
    "\n",
    "constraints.fix_dof(node[0], 0)\n",
    "constraints.fix_dof(node[0], 1)\n",
    "constraints.fix_dof(node[1], 1)\n",
    "\n",
    "node[3].add_load([H,0,0])\n",
    "\n",
    "for elem in elements:\n",
    "    print(elem)"
   ]
  },
  {
   "cell_type": "code",
   "execution_count": 4,
   "id": "c5518574-b460-47a1-8537-cd45bd9451e2",
   "metadata": {},
   "outputs": [],
   "source": [
    "global_k = np.zeros((3*len(node), 3*len(node)))\n",
    "global_f = np.zeros(3*len(node))\n",
    "\n",
    "for elem in elements:\n",
    "    elmat = elem.stiffness()\n",
    "    idofs = elem.global_dofs()\n",
    "    \n",
    "    global_k[np.ix_(idofs,idofs)] += elmat\n",
    "\n",
    "for n in node:\n",
    "    global_f[n.dofs] += n.p"
   ]
  },
  {
   "cell_type": "code",
   "execution_count": 5,
   "id": "e8113fb3",
   "metadata": {},
   "outputs": [
    {
     "name": "stdout",
     "output_type": "stream",
     "text": [
      "[ 4.16667982e-04  4.99999539e-09  4.16665674e-04  4.58333833e-03\n",
      " -4.99999807e-09  4.16675352e-04  4.58334333e-03  4.99999806e-09\n",
      "  4.16677659e-04]\n"
     ]
    }
   ],
   "source": [
    "Kff, Ff = constraints.constrain ( global_k, global_f )\n",
    "u = np.matmul ( np.linalg.inv(Kff), Ff )\n",
    "print(u)"
   ]
  },
  {
   "cell_type": "code",
   "execution_count": 6,
   "id": "9f2b20cd",
   "metadata": {},
   "outputs": [
    {
     "data": {
      "text/latex": [
       "$\\displaystyle \\frac{H x}{k}$"
      ],
      "text/plain": [
       "H*x/k"
      ]
     },
     "metadata": {},
     "output_type": "display_data"
    }
   ],
   "source": [
    "#provided in case you want to solve the shear beam problem using SymPy\n",
    "import sympy as sym\n",
    "x, k, L, H = sym.symbols('x, k, L, H')\n",
    "w = sym.Function('w')\n",
    "\n",
    "ODE_shear = sym.Eq(w(x).diff(x, 2)*k, 0)\n",
    "w = sym.dsolve(ODE_shear, w(x)).rhs\n",
    "\n",
    "gamma = w.diff(x)\n",
    "V = k*gamma\n",
    "eq1 = sym.Eq(w.subs(x,0), 0)\n",
    "eq2 = sym.Eq(V.subs(x,L), H)\n",
    "Constants = sym.solve([eq1, eq2], sym.symbols('C1, C2'))\n",
    "display(w.subs(Constants))\n",
    "\n"
   ]
  },
  {
   "cell_type": "code",
   "execution_count": null,
   "id": "13562315",
   "metadata": {},
   "outputs": [],
   "source": []
  },
  {
   "cell_type": "code",
   "execution_count": null,
   "id": "c346de9c",
   "metadata": {},
   "outputs": [],
   "source": []
  }
 ],
 "metadata": {
  "kernelspec": {
   "display_name": "U2-Base",
   "language": "python",
   "name": "python3"
  },
  "language_info": {
   "codemirror_mode": {
    "name": "ipython",
    "version": 3
   },
   "file_extension": ".py",
   "mimetype": "text/x-python",
   "name": "python",
   "nbconvert_exporter": "python",
   "pygments_lexer": "ipython3",
   "version": "3.13.2"
  }
 },
 "nbformat": 4,
 "nbformat_minor": 5
}
